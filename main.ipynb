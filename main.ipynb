{
  "nbformat": 4,
  "nbformat_minor": 0,
  "metadata": {
    "colab": {
      "provenance": [],
      "gpuType": "A100"
    },
    "kernelspec": {
      "name": "python3",
      "display_name": "Python 3"
    },
    "language_info": {
      "name": "python"
    },
    "accelerator": "GPU"
  },
  "cells": [
    {
      "cell_type": "markdown",
      "source": [
        "**To run the model faster, Run on A100 GPU**"
      ],
      "metadata": {
        "id": "VnoXlQPaW3R8"
      }
    },
    {
      "cell_type": "code",
      "execution_count": 1,
      "metadata": {
        "colab": {
          "base_uri": "https://localhost:8080/"
        },
        "id": "67QHooPdWzn_",
        "outputId": "615c9a0a-a2a9-4ddc-ccd0-48fd57dae0d3"
      },
      "outputs": [
        {
          "output_type": "stream",
          "name": "stdout",
          "text": [
            "Mounted at /content/drive\n"
          ]
        }
      ],
      "source": [
        "from google.colab import drive\n",
        "drive.mount('/content/drive')"
      ]
    },
    {
      "cell_type": "code",
      "source": [
        "!rsync -av /content/drive/MyDrive/FGED_baseline_1 /content/"
      ],
      "metadata": {
        "colab": {
          "base_uri": "https://localhost:8080/"
        },
        "id": "rzmgWX_IXUh0",
        "outputId": "6ed9a604-bde9-4921-df50-3b178af7f4bb"
      },
      "execution_count": 2,
      "outputs": [
        {
          "output_type": "stream",
          "name": "stdout",
          "text": [
            "sending incremental file list\n",
            "FGED_baseline_1/\n",
            "FGED_baseline_1/.DS_Store\n",
            "FGED_baseline_1/checkpoints/\n",
            "FGED_baseline_1/checkpoints/cluster_metrics_epoch1.csv\n",
            "FGED_baseline_1/checkpoints/cluster_metrics_epoch12.csv\n",
            "FGED_baseline_1/checkpoints/cluster_metrics_epoch15.csv\n",
            "FGED_baseline_1/checkpoints/cluster_metrics_epoch8.csv\n",
            "FGED_baseline_1/checkpoints/clustering_metrics_epoch1.csv\n",
            "FGED_baseline_1/checkpoints/clustering_metrics_epoch12.csv\n",
            "FGED_baseline_1/checkpoints/clustering_metrics_epoch15.csv\n",
            "FGED_baseline_1/checkpoints/clustering_metrics_epoch8.csv\n",
            "FGED_baseline_1/checkpoints/initial_prototypes.pt\n",
            "FGED_baseline_1/checkpoints/prototypes_epoch1.pt\n",
            "FGED_baseline_1/checkpoints/prototypes_epoch12.pt\n",
            "FGED_baseline_1/checkpoints/prototypes_epoch15.pt\n",
            "FGED_baseline_1/checkpoints/prototypes_epoch8.pt\n",
            "FGED_baseline_1/checkpoints/test_metrics_epoch15.csv\n",
            "FGED_baseline_1/checkpoints/test_metrics_epoch8.csv\n",
            "FGED_baseline_1/checkpoints/test_per_class_f1_epoch15.csv\n",
            "FGED_baseline_1/checkpoints/test_per_class_f1_epoch8.csv\n",
            "FGED_baseline_1/checkpoints/test_scores_epoch15.npy\n",
            "FGED_baseline_1/checkpoints/test_scores_epoch8.npy\n",
            "FGED_baseline_1/checkpoints/test_thresholds_used_epoch15.json\n",
            "FGED_baseline_1/checkpoints/test_thresholds_used_epoch8.json\n",
            "FGED_baseline_1/checkpoints/test_y_pred_epoch15.npy\n",
            "FGED_baseline_1/checkpoints/test_y_pred_epoch8.npy\n",
            "FGED_baseline_1/checkpoints/test_y_true_epoch15.npy\n",
            "FGED_baseline_1/checkpoints/test_y_true_epoch8.npy\n",
            "FGED_baseline_1/checkpoints/thresholds_epoch15.json\n",
            "FGED_baseline_1/checkpoints/thresholds_epoch15_offset.json\n",
            "FGED_baseline_1/checkpoints/thresholds_epoch8.json\n",
            "FGED_baseline_1/checkpoints/thresholds_epoch8_offset.json\n",
            "FGED_baseline_1/checkpoints/train_embeddings_epoch1.pt\n",
            "FGED_baseline_1/checkpoints/train_embeddings_epoch12.pt\n",
            "FGED_baseline_1/checkpoints/train_embeddings_epoch15.pt\n",
            "FGED_baseline_1/checkpoints/train_embeddings_epoch8.pt\n",
            "FGED_baseline_1/checkpoints/train_labels_epoch1.pt\n",
            "FGED_baseline_1/checkpoints/train_labels_epoch12.pt\n",
            "FGED_baseline_1/checkpoints/train_labels_epoch15.pt\n",
            "FGED_baseline_1/checkpoints/train_labels_epoch8.pt\n",
            "FGED_baseline_1/checkpoints/val_full_metrics_epoch15.csv\n",
            "FGED_baseline_1/checkpoints/val_full_metrics_epoch8.csv\n",
            "FGED_baseline_1/checkpoints/val_full_per_class_f1_epoch15.csv\n",
            "FGED_baseline_1/checkpoints/val_full_per_class_f1_epoch8.csv\n",
            "FGED_baseline_1/checkpoints/val_full_scores_epoch15.npy\n",
            "FGED_baseline_1/checkpoints/val_full_scores_epoch8.npy\n",
            "FGED_baseline_1/checkpoints/val_full_thresholds_used_epoch15.json\n",
            "FGED_baseline_1/checkpoints/val_full_thresholds_used_epoch8.json\n",
            "FGED_baseline_1/checkpoints/val_full_y_pred_epoch15.npy\n",
            "FGED_baseline_1/checkpoints/val_full_y_pred_epoch8.npy\n",
            "FGED_baseline_1/checkpoints/val_full_y_true_epoch15.npy\n",
            "FGED_baseline_1/checkpoints/val_full_y_true_epoch8.npy\n",
            "FGED_baseline_1/checkpoints/val_overfitcheck_epoch10.csv\n",
            "FGED_baseline_1/checkpoints/val_overfitcheck_epoch12.csv\n",
            "FGED_baseline_1/checkpoints/val_overfitcheck_epoch6.csv\n",
            "FGED_baseline_1/checkpoints/val_overfitcheck_epoch8.csv\n",
            "FGED_baseline_1/checkpoints/val_thresholds_epoch15_per_class_f1.csv\n",
            "FGED_baseline_1/checkpoints/val_thresholds_epoch15_summary.csv\n",
            "FGED_baseline_1/checkpoints/val_thresholds_epoch15_summary_with_offset.csv\n",
            "FGED_baseline_1/checkpoints/val_thresholds_epoch8_per_class_f1.csv\n",
            "FGED_baseline_1/checkpoints/val_thresholds_epoch8_summary.csv\n",
            "FGED_baseline_1/checkpoints/val_thresholds_epoch8_summary_with_offset.csv\n",
            "FGED_baseline_1/checkpoints/validation_full_metrics_epoch15.csv\n",
            "FGED_baseline_1/checkpoints/validation_full_per_class_f1_epoch15.csv\n",
            "FGED_baseline_1/checkpoints/validation_full_scores_epoch15.npy\n",
            "FGED_baseline_1/checkpoints/validation_full_thresholds_used_epoch15.json\n",
            "FGED_baseline_1/checkpoints/validation_full_y_pred_epoch15.npy\n",
            "FGED_baseline_1/checkpoints/validation_full_y_true_epoch15.npy\n",
            "FGED_baseline_1/checkpoints/validation_thresholds_epoch15_per_class_f1.csv\n",
            "FGED_baseline_1/checkpoints/validation_thresholds_epoch15_summary.csv\n",
            "FGED_baseline_1/checkpoints/.ipynb_checkpoints/\n",
            "FGED_baseline_1/data/\n",
            "FGED_baseline_1/data/.DS_Store\n",
            "FGED_baseline_1/data/hierarchy_dictionary.json\n",
            "FGED_baseline_1/data/labels.json\n",
            "FGED_baseline_1/data/extracted/\n",
            "FGED_baseline_1/data/extracted/goemotions_dev.csv\n",
            "FGED_baseline_1/data/extracted/goemotions_test.csv\n",
            "FGED_baseline_1/data/extracted/goemotions_train.csv\n",
            "FGED_baseline_1/data/goemotions/\n",
            "FGED_baseline_1/data/goemotions/goemotions_1.csv\n",
            "FGED_baseline_1/data/goemotions/goemotions_2.csv\n",
            "FGED_baseline_1/data/goemotions/goemotions_3.csv\n",
            "FGED_baseline_1/data/preprocessed/\n",
            "FGED_baseline_1/data/preprocessed/.DS_Store\n",
            "FGED_baseline_1/data/preprocessed/goemotions_dev_selected.csv\n",
            "FGED_baseline_1/data/preprocessed/goemotions_test_selected.csv\n",
            "FGED_baseline_1/data/preprocessed/goemotions_train_isolated.csv\n",
            "FGED_baseline_1/data/preprocessed/neutral_isolated.csv\n",
            "FGED_baseline_1/data/preprocessed/.ipynb_checkpoints/\n",
            "FGED_baseline_1/figures/\n",
            "FGED_baseline_1/figures/embeddings/\n",
            "FGED_baseline_1/figures/embeddings/embeddings_epoch15_umap_lock.pdf\n",
            "FGED_baseline_1/figures/embeddings/embeddings_epoch15_umap_lock.png\n",
            "FGED_baseline_1/figures/embeddings/embeddings_epoch15_umap_lock_per-label-p.pdf\n",
            "FGED_baseline_1/figures/embeddings/embeddings_epoch15_umap_lock_per-label-p.png\n",
            "FGED_baseline_1/figures/embeddings/embeddings_epoch15_umap_lock_per-label.pdf\n",
            "FGED_baseline_1/figures/embeddings/embeddings_epoch15_umap_lock_per-label.png\n",
            "FGED_baseline_1/figures/embeddings/embeddings_epoch1_umap_lock.pdf\n",
            "FGED_baseline_1/figures/embeddings/embeddings_epoch1_umap_lock.png\n",
            "FGED_baseline_1/figures/embeddings/embeddings_epoch1_umap_lock_per-label-p.pdf\n",
            "FGED_baseline_1/figures/embeddings/embeddings_epoch1_umap_lock_per-label-p.png\n",
            "FGED_baseline_1/figures/embeddings/embeddings_epoch1_umap_lock_per-label.pdf\n",
            "FGED_baseline_1/figures/embeddings/embeddings_epoch1_umap_lock_per-label.png\n",
            "FGED_baseline_1/figures/embeddings/embeddings_epoch8_umap_lock.pdf\n",
            "FGED_baseline_1/figures/embeddings/embeddings_epoch8_umap_lock.png\n",
            "FGED_baseline_1/figures/embeddings/embeddings_epoch8_umap_lock_per-label-p.pdf\n",
            "FGED_baseline_1/figures/embeddings/embeddings_epoch8_umap_lock_per-label-p.png\n",
            "FGED_baseline_1/figures/embeddings/embeddings_epoch8_umap_lock_per-label.pdf\n",
            "FGED_baseline_1/figures/embeddings/embeddings_epoch8_umap_lock_per-label.png\n",
            "FGED_baseline_1/figures/embeddings_simple/\n",
            "FGED_baseline_1/figures/embeddings_simple/epoch1.pdf\n",
            "FGED_baseline_1/figures/embeddings_simple/epoch1.png\n",
            "FGED_baseline_1/figures/embeddings_simple/epoch15.pdf\n",
            "FGED_baseline_1/figures/embeddings_simple/epoch15.png\n",
            "FGED_baseline_1/figures/embeddings_simple/epoch8.pdf\n",
            "FGED_baseline_1/figures/embeddings_simple/epoch8.png\n",
            "FGED_baseline_1/scripts/\n",
            "FGED_baseline_1/scripts/.DS_Store\n",
            "FGED_baseline_1/scripts/encoder.py\n",
            "FGED_baseline_1/scripts/extract_data.py\n",
            "FGED_baseline_1/scripts/losses.py\n",
            "FGED_baseline_1/scripts/multilabel_contrastive_dataset.py\n",
            "FGED_baseline_1/scripts/neutral_isolation.py\n",
            "FGED_baseline_1/scripts/plotter.py\n",
            "FGED_baseline_1/scripts/preprocess.py\n",
            "FGED_baseline_1/scripts/prototypes.py\n",
            "FGED_baseline_1/scripts/train.py\n",
            "FGED_baseline_1/scripts/.ipynb_checkpoints/\n",
            "FGED_baseline_1/scripts/__pycache__/\n",
            "FGED_baseline_1/scripts/__pycache__/encoder.cpython-311.pyc\n",
            "FGED_baseline_1/scripts/__pycache__/encoder.cpython-312.pyc\n",
            "FGED_baseline_1/scripts/__pycache__/losses.cpython-311.pyc\n",
            "FGED_baseline_1/scripts/__pycache__/losses.cpython-312.pyc\n",
            "FGED_baseline_1/scripts/__pycache__/multilabel_contrastive_dataset.cpython-311.pyc\n",
            "FGED_baseline_1/scripts/__pycache__/multilabel_contrastive_dataset.cpython-312.pyc\n",
            "FGED_baseline_1/scripts/__pycache__/prototypes.cpython-311.pyc\n",
            "FGED_baseline_1/scripts/__pycache__/prototypes.cpython-312.pyc\n",
            "\n",
            "sent 600,053,434 bytes  received 2,464 bytes  9,023,396.96 bytes/sec\n",
            "total size is 599,897,992  speedup is 1.00\n"
          ]
        }
      ]
    },
    {
      "cell_type": "markdown",
      "source": [
        "**Make sure all requirements are already satisfied**"
      ],
      "metadata": {
        "id": "HGwohXDGYI0s"
      }
    },
    {
      "cell_type": "code",
      "source": [
        "!cd /content/FGED_baseline_1/"
      ],
      "metadata": {
        "id": "4_y3_LQLXZ6I"
      },
      "execution_count": 3,
      "outputs": []
    },
    {
      "cell_type": "code",
      "source": [
        "!python /content/FGED_baseline_1/scripts/train.py"
      ],
      "metadata": {
        "id": "krtnWv2lXb4I"
      },
      "execution_count": null,
      "outputs": []
    },
    {
      "cell_type": "code",
      "source": [
        "%run /content/FGED_baseline_1/scripts/plotter.py"
      ],
      "metadata": {
        "colab": {
          "base_uri": "https://localhost:8080/",
          "height": 275
        },
        "id": "OwAN-3vIXe1d",
        "outputId": "3a7f367f-778f-490f-8910-c35bcc76cd63"
      },
      "execution_count": 5,
      "outputs": [
        {
          "output_type": "stream",
          "name": "stderr",
          "text": [
            "/usr/local/lib/python3.12/dist-packages/umap/umap_.py:1952: UserWarning: n_jobs value 1 overridden to 1 by setting random_state. Use no seed for parallelism.\n",
            "  warn(\n"
          ]
        },
        {
          "output_type": "stream",
          "name": "stdout",
          "text": [
            "[saved] /content/FGED_baseline_1/figures/clusters/epoch1.png\n",
            "[saved] /content/FGED_baseline_1/figures/clusters/epoch1.pdf\n"
          ]
        },
        {
          "output_type": "stream",
          "name": "stderr",
          "text": [
            "/usr/local/lib/python3.12/dist-packages/umap/umap_.py:1952: UserWarning: n_jobs value 1 overridden to 1 by setting random_state. Use no seed for parallelism.\n",
            "  warn(\n"
          ]
        },
        {
          "output_type": "stream",
          "name": "stdout",
          "text": [
            "[saved] /content/FGED_baseline_1/figures/clusters/epoch8.png\n",
            "[saved] /content/FGED_baseline_1/figures/clusters/epoch8.pdf\n"
          ]
        },
        {
          "output_type": "stream",
          "name": "stderr",
          "text": [
            "/usr/local/lib/python3.12/dist-packages/umap/umap_.py:1952: UserWarning: n_jobs value 1 overridden to 1 by setting random_state. Use no seed for parallelism.\n",
            "  warn(\n"
          ]
        },
        {
          "output_type": "stream",
          "name": "stdout",
          "text": [
            "[saved] /content/FGED_baseline_1/figures/clusters/epoch15.png\n",
            "[saved] /content/FGED_baseline_1/figures/clusters/epoch15.pdf\n",
            "Done :)\n"
          ]
        },
        {
          "output_type": "display_data",
          "data": {
            "text/plain": [
              "<Figure size 640x480 with 0 Axes>"
            ]
          },
          "metadata": {}
        }
      ]
    },
    {
      "cell_type": "markdown",
      "source": [
        "**Save**"
      ],
      "metadata": {
        "id": "nYgBebX_XqSi"
      }
    },
    {
      "cell_type": "code",
      "source": [
        "!cp -r /content/FGED_baseline_1 /content/drive/MyDrive/"
      ],
      "metadata": {
        "id": "SCYrVBM9Xpai"
      },
      "execution_count": 9,
      "outputs": []
    }
  ]
}